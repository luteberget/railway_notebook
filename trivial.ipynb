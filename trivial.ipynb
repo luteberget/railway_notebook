{
 "cells": [
  {
   "cell_type": "code",
   "execution_count": 1,
   "metadata": {},
   "outputs": [],
   "source": [
    "from rc import *"
   ]
  },
  {
   "cell_type": "code",
   "execution_count": 2,
   "metadata": {},
   "outputs": [],
   "source": [
    "m = Model(filename=\"trivial-arb.railml\")"
   ]
  },
  {
   "cell_type": "code",
   "execution_count": 3,
   "metadata": {},
   "outputs": [],
   "source": [
    "def medrettet(set): return (lambda s: set.filter(lambda x: x.dir() == s.dir()))\n",
    "def motrettet(set): return (lambda s: set.filter(lambda x: x.dir() == s.dir().opposite()))"
   ]
  },
  {
   "cell_type": "code",
   "execution_count": 4,
   "metadata": {},
   "outputs": [],
   "source": [
    "hs = m.objects.filter(type=\"signal\").filter(lambda x: x.type == \"combined\" or x.type == \"main\")\n"
   ]
  },
  {
   "cell_type": "code",
   "execution_count": 5,
   "metadata": {},
   "outputs": [
    {
     "data": {
      "text/html": [
       "<div>\n",
       "<style scoped>\n",
       "    .dataframe tbody tr th:only-of-type {\n",
       "        vertical-align: middle;\n",
       "    }\n",
       "\n",
       "    .dataframe tbody tr th {\n",
       "        vertical-align: top;\n",
       "    }\n",
       "\n",
       "    .dataframe thead th {\n",
       "        text-align: right;\n",
       "    }\n",
       "</style>\n",
       "<table border=\"1\" class=\"dataframe\">\n",
       "  <thead>\n",
       "    <tr style=\"text-align: right;\">\n",
       "      <th></th>\n",
       "      <th>dir</th>\n",
       "      <th>start</th>\n",
       "      <th>path</th>\n",
       "      <th>end</th>\n",
       "    </tr>\n",
       "  </thead>\n",
       "  <tbody>\n",
       "    <tr>\n",
       "      <th>0</th>\n",
       "      <td>Dir.UP</td>\n",
       "      <td>Point object name='Hs.1' id=sig_0</td>\n",
       "      <td>(((&lt;rc.Model object at 0x0000026F427B6320&gt;, tr...</td>\n",
       "      <td>Point object name='Hs.2' id=sig_1</td>\n",
       "    </tr>\n",
       "  </tbody>\n",
       "</table>\n",
       "</div>"
      ],
      "text/plain": [
       "      dir                              start  \\\n",
       "0  Dir.UP  Point object name='Hs.1' id=sig_0   \n",
       "\n",
       "                                                path  \\\n",
       "0  (((<rc.Model object at 0x0000026F427B6320>, tr...   \n",
       "\n",
       "                                 end  \n",
       "0  Point object name='Hs.2' id=sig_1  "
      ]
     },
     "metadata": {},
     "output_type": "display_data"
    }
   ],
   "source": [
    "togveier = hs.find_forward(medrettet(hs))\n",
    "display(tbl(list(togveier)))"
   ]
  },
  {
   "cell_type": "code",
   "execution_count": 13,
   "metadata": {},
   "outputs": [
    {
     "data": {
      "text/plain": [
       "Area(delimiters=<rc.DelimiterSet object at 0x0000026F428258D0>, intervals=<rc.IntervalSet object at 0x0000026F427B6550>)"
      ]
     },
     "execution_count": 13,
     "metadata": {},
     "output_type": "execute_result"
    }
   ],
   "source": [
    "arb_delims = m.objects.filter(lambda x: \"RC Area\" in x.type, type=\"trackCondition\")\n",
    "list(AreaSet.from_delimiters(arb_delims))[0]"
   ]
  },
  {
   "cell_type": "code",
   "execution_count": 18,
   "metadata": {},
   "outputs": [],
   "source": [
    "BOARD_WIDTH = \"10cm\"\n",
    "BOARD_HEIGHT = \"10cm\"\n",
    "BOARD_SIZE = (BOARD_WIDTH, BOARD_HEIGHT)\n",
    "CSS_STYLES = \"\"\"\n",
    "    .background { fill: lavenderblush; }\n",
    "    .line { stroke: firebrick; stroke-width: .1mm; }\n",
    "    .blacksquare { fill: indigo; }\n",
    "    .whitesquare { fill: hotpink; }\n",
    "\"\"\"\n",
    "\n",
    "def draw_board(dwg):\n",
    "    def group(classname):\n",
    "        return dwg.add(dwg.g(class_=classname))\n",
    "\n",
    "    # setup element groups\n",
    "    lines = group(\"line\")\n",
    "    white_squares = group(\"whitesquare\")\n",
    "    black_squares = group(\"blacksquare\")\n",
    "\n",
    "    # draw lines\n",
    "    for i in range(9):\n",
    "        y = i * 10\n",
    "        lines.add(dwg.line(start=(0, y), end=(80, y)))\n",
    "        x = i * 10\n",
    "        lines.add(dwg.line(start=(x, 0), end=(x, 80)))\n",
    "\n",
    "    # draw squares\n",
    "    for x in range(8):\n",
    "        for y in range(8):\n",
    "            xc = x * 10 + 1\n",
    "            yc = y * 10 + 1\n",
    "            square = dwg.rect(insert=(xc, yc), size=(8, 8))\n",
    "            (white_squares if (x+y) % 2 else black_squares).add(square)\n"
   ]
  },
  {
   "cell_type": "code",
   "execution_count": 23,
   "metadata": {},
   "outputs": [],
   "source": [
    "import svgwrite\n",
    "class X:\n",
    "    def _repr_svg_(self):\n",
    "        dwg = svgwrite.Drawing('checkerboard.svg', size=BOARD_SIZE)\n",
    "        dwg.defs.add(dwg.style(CSS_STYLES))\n",
    "        dwg.add(dwg.rect(size=('100%','100%'), class_='background'))\n",
    "        draw_board(dwg)\n",
    "        return dwg.tostring()\n"
   ]
  },
  {
   "cell_type": "code",
   "execution_count": 24,
   "metadata": {},
   "outputs": [
    {
     "data": {
      "image/svg+xml": [
       "<svg baseProfile=\"full\" height=\"10cm\" version=\"1.1\" width=\"10cm\" xmlns=\"http://www.w3.org/2000/svg\" xmlns:ev=\"http://www.w3.org/2001/xml-events\" xmlns:xlink=\"http://www.w3.org/1999/xlink\"><defs><style type=\"text/css\"><![CDATA[\n",
       "    .background { fill: lavenderblush; }\n",
       "    .line { stroke: firebrick; stroke-width: .1mm; }\n",
       "    .blacksquare { fill: indigo; }\n",
       "    .whitesquare { fill: hotpink; }\n",
       "]]></style></defs><rect class=\"background\" height=\"100%\" width=\"100%\" x=\"0\" y=\"0\" /><g class=\"line\"><line x1=\"0\" x2=\"80\" y1=\"0\" y2=\"0\" /><line x1=\"0\" x2=\"0\" y1=\"0\" y2=\"80\" /><line x1=\"0\" x2=\"80\" y1=\"10\" y2=\"10\" /><line x1=\"10\" x2=\"10\" y1=\"0\" y2=\"80\" /><line x1=\"0\" x2=\"80\" y1=\"20\" y2=\"20\" /><line x1=\"20\" x2=\"20\" y1=\"0\" y2=\"80\" /><line x1=\"0\" x2=\"80\" y1=\"30\" y2=\"30\" /><line x1=\"30\" x2=\"30\" y1=\"0\" y2=\"80\" /><line x1=\"0\" x2=\"80\" y1=\"40\" y2=\"40\" /><line x1=\"40\" x2=\"40\" y1=\"0\" y2=\"80\" /><line x1=\"0\" x2=\"80\" y1=\"50\" y2=\"50\" /><line x1=\"50\" x2=\"50\" y1=\"0\" y2=\"80\" /><line x1=\"0\" x2=\"80\" y1=\"60\" y2=\"60\" /><line x1=\"60\" x2=\"60\" y1=\"0\" y2=\"80\" /><line x1=\"0\" x2=\"80\" y1=\"70\" y2=\"70\" /><line x1=\"70\" x2=\"70\" y1=\"0\" y2=\"80\" /><line x1=\"0\" x2=\"80\" y1=\"80\" y2=\"80\" /><line x1=\"80\" x2=\"80\" y1=\"0\" y2=\"80\" /></g><g class=\"whitesquare\"><rect height=\"8\" width=\"8\" x=\"1\" y=\"11\" /><rect height=\"8\" width=\"8\" x=\"1\" y=\"31\" /><rect height=\"8\" width=\"8\" x=\"1\" y=\"51\" /><rect height=\"8\" width=\"8\" x=\"1\" y=\"71\" /><rect height=\"8\" width=\"8\" x=\"11\" y=\"1\" /><rect height=\"8\" width=\"8\" x=\"11\" y=\"21\" /><rect height=\"8\" width=\"8\" x=\"11\" y=\"41\" /><rect height=\"8\" width=\"8\" x=\"11\" y=\"61\" /><rect height=\"8\" width=\"8\" x=\"21\" y=\"11\" /><rect height=\"8\" width=\"8\" x=\"21\" y=\"31\" /><rect height=\"8\" width=\"8\" x=\"21\" y=\"51\" /><rect height=\"8\" width=\"8\" x=\"21\" y=\"71\" /><rect height=\"8\" width=\"8\" x=\"31\" y=\"1\" /><rect height=\"8\" width=\"8\" x=\"31\" y=\"21\" /><rect height=\"8\" width=\"8\" x=\"31\" y=\"41\" /><rect height=\"8\" width=\"8\" x=\"31\" y=\"61\" /><rect height=\"8\" width=\"8\" x=\"41\" y=\"11\" /><rect height=\"8\" width=\"8\" x=\"41\" y=\"31\" /><rect height=\"8\" width=\"8\" x=\"41\" y=\"51\" /><rect height=\"8\" width=\"8\" x=\"41\" y=\"71\" /><rect height=\"8\" width=\"8\" x=\"51\" y=\"1\" /><rect height=\"8\" width=\"8\" x=\"51\" y=\"21\" /><rect height=\"8\" width=\"8\" x=\"51\" y=\"41\" /><rect height=\"8\" width=\"8\" x=\"51\" y=\"61\" /><rect height=\"8\" width=\"8\" x=\"61\" y=\"11\" /><rect height=\"8\" width=\"8\" x=\"61\" y=\"31\" /><rect height=\"8\" width=\"8\" x=\"61\" y=\"51\" /><rect height=\"8\" width=\"8\" x=\"61\" y=\"71\" /><rect height=\"8\" width=\"8\" x=\"71\" y=\"1\" /><rect height=\"8\" width=\"8\" x=\"71\" y=\"21\" /><rect height=\"8\" width=\"8\" x=\"71\" y=\"41\" /><rect height=\"8\" width=\"8\" x=\"71\" y=\"61\" /></g><g class=\"blacksquare\"><rect height=\"8\" width=\"8\" x=\"1\" y=\"1\" /><rect height=\"8\" width=\"8\" x=\"1\" y=\"21\" /><rect height=\"8\" width=\"8\" x=\"1\" y=\"41\" /><rect height=\"8\" width=\"8\" x=\"1\" y=\"61\" /><rect height=\"8\" width=\"8\" x=\"11\" y=\"11\" /><rect height=\"8\" width=\"8\" x=\"11\" y=\"31\" /><rect height=\"8\" width=\"8\" x=\"11\" y=\"51\" /><rect height=\"8\" width=\"8\" x=\"11\" y=\"71\" /><rect height=\"8\" width=\"8\" x=\"21\" y=\"1\" /><rect height=\"8\" width=\"8\" x=\"21\" y=\"21\" /><rect height=\"8\" width=\"8\" x=\"21\" y=\"41\" /><rect height=\"8\" width=\"8\" x=\"21\" y=\"61\" /><rect height=\"8\" width=\"8\" x=\"31\" y=\"11\" /><rect height=\"8\" width=\"8\" x=\"31\" y=\"31\" /><rect height=\"8\" width=\"8\" x=\"31\" y=\"51\" /><rect height=\"8\" width=\"8\" x=\"31\" y=\"71\" /><rect height=\"8\" width=\"8\" x=\"41\" y=\"1\" /><rect height=\"8\" width=\"8\" x=\"41\" y=\"21\" /><rect height=\"8\" width=\"8\" x=\"41\" y=\"41\" /><rect height=\"8\" width=\"8\" x=\"41\" y=\"61\" /><rect height=\"8\" width=\"8\" x=\"51\" y=\"11\" /><rect height=\"8\" width=\"8\" x=\"51\" y=\"31\" /><rect height=\"8\" width=\"8\" x=\"51\" y=\"51\" /><rect height=\"8\" width=\"8\" x=\"51\" y=\"71\" /><rect height=\"8\" width=\"8\" x=\"61\" y=\"1\" /><rect height=\"8\" width=\"8\" x=\"61\" y=\"21\" /><rect height=\"8\" width=\"8\" x=\"61\" y=\"41\" /><rect height=\"8\" width=\"8\" x=\"61\" y=\"61\" /><rect height=\"8\" width=\"8\" x=\"71\" y=\"11\" /><rect height=\"8\" width=\"8\" x=\"71\" y=\"31\" /><rect height=\"8\" width=\"8\" x=\"71\" y=\"51\" /><rect height=\"8\" width=\"8\" x=\"71\" y=\"71\" /></g></svg>"
      ],
      "text/plain": [
       "<__main__.X at 0x7f1155150550>"
      ]
     },
     "execution_count": 24,
     "metadata": {},
     "output_type": "execute_result"
    }
   ],
   "source": [
    "X()"
   ]
  },
  {
   "cell_type": "code",
   "execution_count": 17,
   "metadata": {},
   "outputs": [
    {
     "data": {
      "text/plain": [
       "'<svg baseProfile=\"full\" height=\"100%\" version=\"1.1\" width=\"100%\" xmlns=\"http://www.w3.org/2000/svg\" xmlns:ev=\"http://www.w3.org/2001/xml-events\" xmlns:xlink=\"http://www.w3.org/1999/xlink\"><defs /><rect fill=\"blue\" height=\"1\" width=\"1\" x=\"0\" y=\"0\" /></svg>'"
      ]
     },
     "execution_count": 17,
     "metadata": {},
     "output_type": "execute_result"
    }
   ],
   "source": [
    "dwg = svgwrite.Drawing()\n",
    "dwg.height = 5\n",
    "4dwg.tostring()"
   ]
  },
  {
   "cell_type": "code",
   "execution_count": null,
   "metadata": {},
   "outputs": [],
   "source": []
  }
 ],
 "metadata": {
  "kernelspec": {
   "display_name": "Python 3",
   "language": "python",
   "name": "python3"
  },
  "language_info": {
   "codemirror_mode": {
    "name": "ipython",
    "version": 3
   },
   "file_extension": ".py",
   "mimetype": "text/x-python",
   "name": "python",
   "nbconvert_exporter": "python",
   "pygments_lexer": "ipython3",
   "version": "3.6.5"
  }
 },
 "nbformat": 4,
 "nbformat_minor": 2
}
