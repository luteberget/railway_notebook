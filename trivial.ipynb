{
 "cells": [
  {
   "cell_type": "code",
   "execution_count": 1,
   "metadata": {},
   "outputs": [],
   "source": [
    "from rc import *"
   ]
  },
  {
   "cell_type": "code",
   "execution_count": 2,
   "metadata": {},
   "outputs": [],
   "source": [
    "m = Model(filename=\"trivial-arb.railml\")"
   ]
  },
  {
   "cell_type": "code",
   "execution_count": 3,
   "metadata": {},
   "outputs": [],
   "source": [
    "def medrettet(set): return (lambda s: set.filter(lambda x: x.dir() == s.dir()))\n",
    "def motrettet(set): return (lambda s: set.filter(lambda x: x.dir() == s.dir().opposite()))"
   ]
  },
  {
   "cell_type": "code",
   "execution_count": 4,
   "metadata": {},
   "outputs": [],
   "source": [
    "hs = m.objects.filter(type=\"signal\").filter(lambda x: x.type == \"combined\" or x.type == \"main\")\n"
   ]
  },
  {
   "cell_type": "code",
   "execution_count": 5,
   "metadata": {},
   "outputs": [
    {
     "data": {
      "text/html": [
       "<div>\n",
       "<style scoped>\n",
       "    .dataframe tbody tr th:only-of-type {\n",
       "        vertical-align: middle;\n",
       "    }\n",
       "\n",
       "    .dataframe tbody tr th {\n",
       "        vertical-align: top;\n",
       "    }\n",
       "\n",
       "    .dataframe thead th {\n",
       "        text-align: right;\n",
       "    }\n",
       "</style>\n",
       "<table border=\"1\" class=\"dataframe\">\n",
       "  <thead>\n",
       "    <tr style=\"text-align: right;\">\n",
       "      <th></th>\n",
       "      <th>dir</th>\n",
       "      <th>start</th>\n",
       "      <th>path</th>\n",
       "      <th>end</th>\n",
       "    </tr>\n",
       "  </thead>\n",
       "  <tbody>\n",
       "    <tr>\n",
       "      <th>0</th>\n",
       "      <td>Dir.UP</td>\n",
       "      <td>Point object name='Hs.1' id=sig_0</td>\n",
       "      <td>(((&lt;rc.Model object at 0x0000026F427B6320&gt;, tr...</td>\n",
       "      <td>Point object name='Hs.2' id=sig_1</td>\n",
       "    </tr>\n",
       "  </tbody>\n",
       "</table>\n",
       "</div>"
      ],
      "text/plain": [
       "      dir                              start  \\\n",
       "0  Dir.UP  Point object name='Hs.1' id=sig_0   \n",
       "\n",
       "                                                path  \\\n",
       "0  (((<rc.Model object at 0x0000026F427B6320>, tr...   \n",
       "\n",
       "                                 end  \n",
       "0  Point object name='Hs.2' id=sig_1  "
      ]
     },
     "metadata": {},
     "output_type": "display_data"
    }
   ],
   "source": [
    "togveier = hs.find_forward(medrettet(hs))\n",
    "display(tbl(list(togveier)))"
   ]
  },
  {
   "cell_type": "code",
   "execution_count": 13,
   "metadata": {},
   "outputs": [
    {
     "data": {
      "text/plain": [
       "Area(delimiters=<rc.DelimiterSet object at 0x0000026F428258D0>, intervals=<rc.IntervalSet object at 0x0000026F427B6550>)"
      ]
     },
     "execution_count": 13,
     "metadata": {},
     "output_type": "execute_result"
    }
   ],
   "source": [
    "arb_delims = m.objects.filter(lambda x: \"RC Area\" in x.type, type=\"trackCondition\")\n",
    "list(AreaSet.from_delimiters(arb_delims))[0]"
   ]
  },
  {
   "cell_type": "code",
   "execution_count": null,
   "metadata": {},
   "outputs": [],
   "source": []
  }
 ],
 "metadata": {
  "kernelspec": {
   "display_name": "Python 3",
   "language": "python",
   "name": "python3"
  },
  "language_info": {
   "codemirror_mode": {
    "name": "ipython",
    "version": 3
   },
   "file_extension": ".py",
   "mimetype": "text/x-python",
   "name": "python",
   "nbconvert_exporter": "python",
   "pygments_lexer": "ipython3",
   "version": "3.6.5"
  }
 },
 "nbformat": 4,
 "nbformat_minor": 2
}
