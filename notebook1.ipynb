{
 "cells": [
  {
   "cell_type": "code",
   "execution_count": 1,
   "metadata": {},
   "outputs": [],
   "source": [
    "import rc"
   ]
  },
  {
   "cell_type": "code",
   "execution_count": 2,
   "metadata": {},
   "outputs": [],
   "source": [
    "m = rc.Model(filename=\"UOS-10-S-82801-RC3.railml\")"
   ]
  },
  {
   "cell_type": "code",
   "execution_count": 3,
   "metadata": {},
   "outputs": [],
   "source": [
    "top = rc._mk_topology(m,m._xml_tracks.values(),[])"
   ]
  },
  {
   "cell_type": "code",
   "execution_count": 6,
   "metadata": {
    "scrolled": true
   },
   "outputs": [
    {
     "name": "stdout",
     "output_type": "stream",
     "text": [
      "<rc.PointObject object at 0x000001BA55FFD710>\n"
     ]
    }
   ],
   "source": [
    "print(m.objects[0])"
   ]
  },
  {
   "cell_type": "code",
   "execution_count": 8,
   "metadata": {},
   "outputs": [
    {
     "data": {
      "text/plain": [
       "[(TrackInterval(pos=TrackPos(track=TrackRef(model=<rc.Model object at 0x0000016AA67297B8>, id='tr_0', name='9'), pos=0.0), length=245.0),\n",
       "  [<Element '{http://www.railml.org/schemas/2013}radiusChange' at 0x0000016AA673A9F8>,\n",
       "   <Element '{http://www.railml.org/schemas/2013}signal' at 0x0000016AA673AF98>,\n",
       "   <Element '{http://www.railml.org/schemas/2013}trainDetector' at 0x0000016AA673D188>,\n",
       "   <Element '{http://www.railml.org/schemas/2013}signal' at 0x0000016AA673AEF8>,\n",
       "   <Element '{http://www.railml.org/schemas/2013}trainDetector' at 0x0000016AA673D278>,\n",
       "   <Element '{http://www.railml.org/schemas/2013}signal' at 0x0000016AA673AC78>,\n",
       "   <Element '{http://www.railml.org/schemas/2013}signal' at 0x0000016AA673AE58>,\n",
       "   <Element '{http://www.railml.org/schemas/2013}trainDetector' at 0x0000016AA673D368>]),\n",
       " (TrackInterval(pos=TrackPos(track=TrackRef(model=<rc.Model object at 0x0000016AA67297B8>, id='tr_0', name='9'), pos=245.0), length=105.0),\n",
       "  [<Element '{http://www.railml.org/schemas/2013}signal' at 0x0000016AA673AD18>,\n",
       "   <Element '{http://www.railml.org/schemas/2013}trainDetector' at 0x0000016AA673D458>,\n",
       "   <Element '{http://www.railml.org/schemas/2013}signal' at 0x0000016AA673ADB8>,\n",
       "   <Element '{http://www.railml.org/schemas/2013}trainDetector' at 0x0000016AA673D548>]),\n",
       " (TrackInterval(pos=TrackPos(track=TrackRef(model=<rc.Model object at 0x0000016AA67297B8>, id='tr_0', name='9'), pos=350.0), length=91.0),\n",
       "  [<Element '{http://www.railml.org/schemas/2013}trainDetector' at 0x0000016AA673D638>,\n",
       "   <Element '{http://www.railml.org/schemas/2013}derailer' at 0x0000016AA673D908>]),\n",
       " (TrackInterval(pos=TrackPos(track=TrackRef(model=<rc.Model object at 0x0000016AA67297B8>, id='tr_0', name='9'), pos=441.0), length=147.0),\n",
       "  [<Element '{http://www.railml.org/schemas/2013}signal' at 0x0000016AA673ABD8>,\n",
       "   <Element '{http://www.railml.org/schemas/2013}trainDetector' at 0x0000016AA673D728>,\n",
       "   <Element '{http://www.railml.org/schemas/2013}signal' at 0x0000016AA673D098>]),\n",
       " (TrackInterval(pos=TrackPos(track=TrackRef(model=<rc.Model object at 0x0000016AA67297B8>, id='tr_1', name='VIII'), pos=0.0), length=245.0),\n",
       "  [<Element '{http://www.railml.org/schemas/2013}radiusChange' at 0x0000016AA6751688>,\n",
       "   <Element '{http://www.railml.org/schemas/2013}signal' at 0x0000016AA6751E08>,\n",
       "   <Element '{http://www.railml.org/schemas/2013}trainDetector' at 0x0000016AA675B3B8>,\n",
       "   <Element '{http://www.railml.org/schemas/2013}signal' at 0x0000016AA6751D68>,\n",
       "   <Element '{http://www.railml.org/schemas/2013}trainDetector' at 0x0000016AA675B4A8>,\n",
       "   <Element '{http://www.railml.org/schemas/2013}signal' at 0x0000016AA6751AE8>,\n",
       "   <Element '{http://www.railml.org/schemas/2013}signal' at 0x0000016AA6751CC8>,\n",
       "   <Element '{http://www.railml.org/schemas/2013}trainDetector' at 0x0000016AA675B598>])]"
      ]
     },
     "execution_count": 8,
     "metadata": {},
     "output_type": "execute_result"
    }
   ],
   "source": [
    "top.segments[0:5]"
   ]
  },
  {
   "cell_type": "code",
   "execution_count": 4,
   "metadata": {},
   "outputs": [
    {
     "name": "stdout",
     "output_type": "stream",
     "text": [
      "Position: track=\"spor 1\" pos=15.0\n"
     ]
    }
   ],
   "source": [
    "x = rc.TrackPos(m, rc.TrackRef(m, \"123\",\"spor 1\"), 15.0)\n",
    "print(x)"
   ]
  },
  {
   "cell_type": "code",
   "execution_count": 8,
   "metadata": {},
   "outputs": [
    {
     "name": "stdout",
     "output_type": "stream",
     "text": [
      "Track: id=123 name=\"spor 1\"\n"
     ]
    }
   ],
   "source": [
    "print(x.track)"
   ]
  },
  {
   "cell_type": "code",
   "execution_count": null,
   "metadata": {},
   "outputs": [],
   "source": []
  }
 ],
 "metadata": {
  "kernelspec": {
   "display_name": "Python 3",
   "language": "python",
   "name": "python3"
  },
  "language_info": {
   "codemirror_mode": {
    "name": "ipython",
    "version": 3
   },
   "file_extension": ".py",
   "mimetype": "text/x-python",
   "name": "python",
   "nbconvert_exporter": "python",
   "pygments_lexer": "ipython3",
   "version": "3.6.5"
  }
 },
 "nbformat": 4,
 "nbformat_minor": 2
}
